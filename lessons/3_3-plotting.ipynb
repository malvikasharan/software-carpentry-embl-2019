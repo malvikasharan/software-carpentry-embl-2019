{
 "cells": [
  {
   "cell_type": "markdown",
   "metadata": {},
   "source": [
    "# Python session - 3.3\n",
    "\n",
    "## Plotting\n",
    "\n",
    "http://tobyhodges.github.io/python-novice-gapminder/39-plotting/\n",
    "\n",
    "#### Questions\n",
    "- How can I plot my data?\n",
    "\n",
    "#### Objectives\n",
    "- Create a time series plot showing a single data set.\n",
    "- Create a scatter plot showing relationship between two data sets."
   ]
  },
  {
   "cell_type": "markdown",
   "metadata": {},
   "source": [
    "#### `matplotlib` is the most widely used scientific plotting library in Python.\n",
    "\n",
    "- Commonly use a sub-library called `matplotlib.pyplot`.\n",
    "- The Jupyter Notebook will render plots inline if we ask it to using a “magic” command."
   ]
  },
  {
   "cell_type": "code",
   "execution_count": null,
   "metadata": {},
   "outputs": [],
   "source": [
    "%matplotlib inline\n",
    "import matplotlib.pyplot as plt"
   ]
  },
  {
   "cell_type": "code",
   "execution_count": null,
   "metadata": {},
   "outputs": [],
   "source": [
    "# Simple plots are then (fairly) simple to create.\n",
    "\n",
    "x = [1, 2, 3, 4, 5]\n",
    "y = [2, 4, 6, 8, 10]\n",
    "\n",
    "# Plot\n",
    "plt.plot(x, y)\n",
    "\n",
    "# Label\n",
    "plt.xlabel('x axis')\n",
    "plt.ylabel('y axis')\n",
    "plt.title('Test plot')"
   ]
  },
  {
   "cell_type": "markdown",
   "metadata": {},
   "source": [
    "#### Plot data directly from a Pandas `DataFrame`.\n",
    "\n",
    "- We can also plot Pandas dataframes.\n",
    "- This implicitly uses `matplotlib.pyplot`."
   ]
  },
  {
   "cell_type": "code",
   "execution_count": null,
   "metadata": {},
   "outputs": [],
   "source": [
    "import pandas\n",
    "\n",
    "# read file\n",
    "\n",
    "df = pandas.read_csv('data/gapminder_gdp_oceania.csv', index_col='country')\n",
    "\n",
    "# Plot for asutralia data\n",
    "df.loc['Australia'].plot()\n",
    "\n",
    "# Tick rotation\n",
    "plt.xticks(rotation=90)\n",
    "plt.yticks(rotation=30)"
   ]
  },
  {
   "cell_type": "markdown",
   "metadata": {},
   "source": [
    "#### Select and transform data, then plot it.\n",
    "\n",
    "- By default, `DataFrame.plot` plots with the rows as the X axis.\n",
    "- We can transpose the data in order to plot multiple series."
   ]
  },
  {
   "cell_type": "code",
   "execution_count": null,
   "metadata": {},
   "outputs": [],
   "source": [
    "# Y label\n",
    "df.T.plot()\n",
    "plt.xticks(rotation=45)"
   ]
  },
  {
   "cell_type": "markdown",
   "metadata": {},
   "source": [
    "#### Many styles of plot are available.\n",
    "\n",
    "- For example, do a bar plot using a fancier style."
   ]
  },
  {
   "cell_type": "code",
   "execution_count": null,
   "metadata": {},
   "outputs": [],
   "source": [
    "plt.style.use('ggplot')\n",
    "\n",
    "#help(df.plot)\n",
    "\n",
    "df.T.plot(kind='box')\n",
    "plt.ylabel('GDP per capita')"
   ]
  },
  {
   "cell_type": "markdown",
   "metadata": {},
   "source": [
    "- Extract years from the last four characters of the columns’ names.\n",
    "- Store these in a list using the Accumulator pattern.\n",
    "- Can also convert dataframe data to a list."
   ]
  },
  {
   "cell_type": "code",
   "execution_count": null,
   "metadata": {},
   "outputs": [],
   "source": [
    "# Accumulator pattern to collect years (as character strings).\n",
    "\n",
    "years = []\n",
    "for cols in df.columns:\n",
    "    years.append(cols[-4:])\n",
    "\n",
    "# Australia data as list.\n",
    "australia = df.loc['Australia']\n",
    "\n",
    "# Plot: 'b-' sets the line style.\n",
    "plt.plot(years, australia, 'b-', label='Australia')\n"
   ]
  },
  {
   "cell_type": "code",
   "execution_count": null,
   "metadata": {},
   "outputs": [],
   "source": [
    "#### Can plot many sets of data together.\n",
    "\n",
    "# Accumulator pattern to collect years (as character strings).\n",
    "years = []\n",
    "for cols in df.columns:\n",
    "    years.append(cols[-4:])\n",
    "    \n",
    "# Select two countries' worth of data.\n",
    "australia = df.loc['Australia']\n",
    "nzland = df.loc['New Zealand']\n",
    "\n",
    "# Plot with differently-colored markers.\n",
    "plt.plot(years, australia, 'b-', label='Australia')\n",
    "plt.plot(years, nzland, 'g-', label='New Zealand')\n",
    "\n",
    "# Create legend\n",
    "\n",
    "plt.legend(loc='upper left')\n",
    "plt.xlabel('Year')\n",
    "plt.ylabel('GDP per capita ($)')\n"
   ]
  },
  {
   "cell_type": "markdown",
   "metadata": {},
   "source": [
    "- Plot a scatter plot correlating the GDP of Australia and New Zealand\n",
    "- Use either `plt.scatter` or `DataFrame.plot.scatter`"
   ]
  },
  {
   "cell_type": "code",
   "execution_count": null,
   "metadata": {},
   "outputs": [],
   "source": [
    "plt.scatter(australia, nzland)"
   ]
  },
  {
   "cell_type": "code",
   "execution_count": null,
   "metadata": {},
   "outputs": [],
   "source": [
    "df.T.plot.scatter(x='Australia', y='New Zealand')"
   ]
  },
  {
   "cell_type": "markdown",
   "metadata": {},
   "source": [
    "#### Exercise - Minima and Maxima\n",
    "\n",
    "Fill in the blanks below to plot the minimum GDP per capita over time for all the countries in Europe. Modify it again to plot the maximum GDP per capita over time for Europe."
   ]
  },
  {
   "cell_type": "code",
   "execution_count": null,
   "metadata": {},
   "outputs": [],
   "source": [
    "data_europe = pandas.read_csv('data/gapminder_gdp_europe.csv', index_col='country')\n",
    "data_europe.min().plot(label='min')\n",
    "data_europe.max().plot(label='max')\n",
    "plt.legend(loc='best')\n",
    "plt.xticks(rotation=45)\n",
    "plt.xlabel(\"GDP Per Capita\")"
   ]
  },
  {
   "cell_type": "markdown",
   "metadata": {},
   "source": [
    "#### Exercise - Correlations\n",
    "\n",
    "Modify the example in the notes to create a scatter plot showing the relationship between the minimum and maximum GDP per capita among the countries in Asia for each year in the data set. What relationship do you see (if any)?\n",
    "\n",
    "No particular correlations can be seen between the minimum and maximum gdp values year on year. It seems the fortunes of asian countries do not rise and fall together."
   ]
  },
  {
   "cell_type": "code",
   "execution_count": null,
   "metadata": {},
   "outputs": [],
   "source": [
    "data_asia = pandas.read_csv('data/gapminder_gdp_asia.csv', index_col='country')\n",
    "data_asia.describe().T.plot(kind='scatter', x=\"min\", y=\"max\")"
   ]
  },
  {
   "cell_type": "code",
   "execution_count": null,
   "metadata": {},
   "outputs": [],
   "source": [
    "data_asia = pandas.read_csv('data/gapminder_gdp_asia.csv', index_col='country')\n",
    "data_asia.max().plot()\n",
    "data_asia.min().plot()\n",
    "plt.xticks(rotation=45)"
   ]
  },
  {
   "cell_type": "code",
   "execution_count": null,
   "metadata": {},
   "outputs": [],
   "source": [
    "data_all = pandas.read_csv('data/gapminder_all.csv', index_col='country')\n",
    "data_all.plot(kind='scatter', x='gdpPercap_2007', y='lifeExp_2007',\n",
    "              s=data_all['pop_2007']/1e6)"
   ]
  },
  {
   "cell_type": "markdown",
   "metadata": {},
   "source": [
    "#### Using online help and other resources, explain what each argument to plot does."
   ]
  },
  {
   "cell_type": "markdown",
   "metadata": {},
   "source": [
    "### Keypoints\n",
    "\n",
    "- `matplotlib` is the most widely used scientific plotting library in Python.\n",
    "- Plot data directly from a Pandas `DataFrame`.\n",
    "- Select and transform data, then plot it.\n",
    "- Many styles of plot are available.\n",
    "- Can plot many sets of data together."
   ]
  }
 ],
 "metadata": {
  "kernelspec": {
   "display_name": "Python 3",
   "language": "python",
   "name": "python3"
  },
  "language_info": {
   "codemirror_mode": {
    "name": "ipython",
    "version": 3
   },
   "file_extension": ".py",
   "mimetype": "text/x-python",
   "name": "python",
   "nbconvert_exporter": "python",
   "pygments_lexer": "ipython3",
   "version": "3.7.4"
  }
 },
 "nbformat": 4,
 "nbformat_minor": 2
}
