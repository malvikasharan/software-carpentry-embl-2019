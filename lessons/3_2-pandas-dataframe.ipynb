{
 "cells": [
  {
   "cell_type": "markdown",
   "metadata": {},
   "source": [
    "# Python session - 3.2\n",
    "\n",
    "## Pandas DataFrames\n",
    "\n",
    "https://swcarpentry.github.io/python-novice-gapminder/08-data-frames/\n",
    "\n",
    "#### Questions\n",
    "- How can I do statistical analysis of tabular data?\n",
    "\n",
    "#### Objectives\n",
    "- Select individual values from a Pandas dataframe.\n",
    "- Select entire rows or entire columns from a dataframe.\n",
    "- Select a subset of both rows and columns from a dataframe in a single operation.\n",
    "- Select a subset of a dataframe by a single Boolean criterion."
   ]
  },
  {
   "cell_type": "markdown",
   "metadata": {},
   "source": [
    "#### First note about Pandas DataFrames/Series\n",
    "\n",
    "A `DataFrame` is a collection of `Series`; The `DataFrame` is the way Pandas represents a table, and `Series` is the data-structure Pandas uses to represent a column.\n",
    "\n",
    "Pandas is built on top of the Numpy library, which in practice means that most of the methods defined for Numpy's Arrays apply to Pandas' `Series`/`DataFrames`.\n",
    "\n",
    "What makes Pandas so attractive is the powerful interface to access individual records of the table, proper handling of missing values, and relational-databases operations between `DataFrames`."
   ]
  },
  {
   "cell_type": "markdown",
   "metadata": {},
   "source": [
    "#### Use `DataFrame.iloc[..., ...]` to select values by numerical index\n",
    "\n",
    "Can specify location by numerical index analogously to 2D version of character selection in strings."
   ]
  },
  {
   "cell_type": "code",
   "execution_count": null,
   "metadata": {},
   "outputs": [],
   "source": [
    "import pandas\n",
    "\n",
    "#Hints:\n",
    "#index_col='country'\n",
    "#data.iloc[0, 0]\n",
    "\n",
    "# read file, make 'country' as an index for the column\n",
    "df = pandas.read_csv(\"data/gapminder_gdp_asia.csv\", index_col = 'country')\n",
    "\n",
    "# index of the indexes of the locations or rows: iloc\n",
    "df.iloc[0, 1]\n",
    "\n",
    "#similar to the columns, a list of indexes of rows can be passed\n",
    "df.iloc[range(1,6)]\n",
    "\n",
    "#the left side of , inside the square bracket is used for rows and right side is for column\n",
    "\n",
    "# get value from the first cell\n",
    "df.iloc[0, 0]\n",
    "\n",
    "# get values from multiple cells\n",
    "df.iloc[range(1,6), range(1,6)]\n",
    "\n",
    "# get all the rows but a few columns\n",
    "df.iloc[:, [3, 5, 8, 9]]\n",
    "\n",
    "# get all the columns but a few rows\n",
    "df.iloc[[3, 5, 8, 9], :]\n",
    "\n",
    "# in the last commands, ':' represents slicing\n",
    "#: with a number defines where to slice, but without number it takes everything\n",
    "\n",
    "#save the subset (sliced_data) in a variable\n",
    "sliced_data = df.iloc[[3, 5, 8, 9], :]\n",
    "\n",
    "#get statistics of the sliced data\n",
    "sliced_data.describe()\n"
   ]
  },
  {
   "cell_type": "markdown",
   "metadata": {},
   "source": [
    "#### Use `DataFrame.loc[..., ...]` to select values by names.\n",
    "\n",
    "Can specify location by row name analogously to 2D version of dictionary keys."
   ]
  },
  {
   "cell_type": "code",
   "execution_count": null,
   "metadata": {},
   "outputs": [],
   "source": [
    "# Using asia data here\n",
    "# data.loc[\"India\", \"gdpPercap_1952\"]\n",
    "\n",
    "data = pandas.read_csv(\"data/gapminder_gdp_asia.csv\", index_col='country')\n",
    "\n",
    "data.loc[\"India\", \"gdpPercap_1952\"]\n",
    "\n",
    "# loc is like iloc, but using iloc, you can give index number for bothe rows and columns\n",
    "# whereas for loc, you have to use keys/index names\n",
    "\n",
    "# again, in the left side of a ',' inside the square bracket is reserved for rows, but the rightside is for columns"
   ]
  },
  {
   "cell_type": "markdown",
   "metadata": {},
   "source": [
    "#### Use `:` on its own to mean all columns or all rows.\n",
    "\n",
    "Just like Python’s usual slicing notation."
   ]
  },
  {
   "cell_type": "code",
   "execution_count": null,
   "metadata": {},
   "outputs": [],
   "source": [
    "# Slice by \"China\", :\n",
    "\n",
    "data.loc['China', :]"
   ]
  },
  {
   "cell_type": "code",
   "execution_count": null,
   "metadata": {},
   "outputs": [],
   "source": [
    "# Would get the same result printing data.loc[\"China\"] (without a second index).\n",
    "\n",
    "data.loc[\"China\"]"
   ]
  },
  {
   "cell_type": "code",
   "execution_count": null,
   "metadata": {},
   "outputs": [],
   "source": [
    "# Would get a column data[\"gdpPercap_1952\"]\n",
    "\n",
    "data[\"gdpPercap_1952\"]\n",
    "\n",
    "# Also get the same result printing data.gdpPercap_1952 (since it’s a column name)\n",
    "data.gdpPercap_1952 "
   ]
  },
  {
   "cell_type": "markdown",
   "metadata": {},
   "source": [
    "#### Select multiple columns or rows using `DataFrame.loc` and a named slice"
   ]
  },
  {
   "cell_type": "code",
   "execution_count": null,
   "metadata": {},
   "outputs": [],
   "source": [
    "# slice India to Israel, and include all columns by ':'\n",
    "subset1 = data.loc['India':'Israel', :] \n",
    "\n",
    "# take all the rows and get data from 1972 to 1982\n",
    "subset2 = data.loc[:, 'gdpPercap_1972':'gdpPercap_1982'] \n",
    "\n",
    "# slice rows, India to Israel, and columns, 1972 to 1982\n",
    "subset3 = data.loc['India':'Israel', 'gdpPercap_1972':'gdpPercap_1982']\n",
    "\n",
    "# in . all the cases, I have saved my subsets in different variables"
   ]
  },
  {
   "cell_type": "markdown",
   "metadata": {},
   "source": [
    "In the above code, we discover that slicing using loc is inclusive at both ends, which differs from slicing using iloc, where slicing indicates everything up to but not including the final index."
   ]
  },
  {
   "cell_type": "markdown",
   "metadata": {},
   "source": [
    "#### Result of slicing can be used in further operations\n",
    "\n",
    "- Usually don’t just print a slice.\n",
    "- All the statistical operators that work on entire dataframes work the same way on slices.\n",
    "    - E.g., calculate max of a slice."
   ]
  },
  {
   "cell_type": "code",
   "execution_count": null,
   "metadata": {},
   "outputs": [],
   "source": [
    "subset4 = subset3.max()\n",
    "subset4.min()"
   ]
  },
  {
   "cell_type": "code",
   "execution_count": null,
   "metadata": {},
   "outputs": [],
   "source": [
    "# you can do multiple operations on your dataframe or its subset\n",
    "\n",
    "subset3.T.iloc[-1].to_csv('test_subset.csv')"
   ]
  },
  {
   "cell_type": "markdown",
   "metadata": {},
   "source": [
    "#### Use comparisons to select data based on value\n",
    "\n",
    "- Comparison is applied element by element.\n",
    "- Returns a similarly-shaped dataframe of True and False."
   ]
  },
  {
   "cell_type": "code",
   "execution_count": null,
   "metadata": {},
   "outputs": [],
   "source": [
    "# Use a subset of data to keep output readable.\n",
    "subset3 #saved in my previous computation\n",
    "\n",
    "# Which values were greater than 10000 ?\n",
    "subset3>10000"
   ]
  },
  {
   "cell_type": "markdown",
   "metadata": {},
   "source": [
    "#### Select values or NaN using a Boolean mask.\n",
    "\n",
    "- A frame full of Booleans is sometimes called a mask because of how it can be used."
   ]
  },
  {
   "cell_type": "code",
   "execution_count": null,
   "metadata": {},
   "outputs": [],
   "source": [
    "subset3[subset3>10000]"
   ]
  },
  {
   "cell_type": "markdown",
   "metadata": {},
   "source": [
    "- Get the value where the mask is true, and NaN (Not a Number) where it is false.\n",
    "- Useful because NaNs are ignored by operations like max, min, average, etc."
   ]
  },
  {
   "cell_type": "code",
   "execution_count": null,
   "metadata": {},
   "outputs": [],
   "source": [
    "subset3[subset3>10000].head()\n",
    "subset3_stat = subset3[subset3>10000].describe()"
   ]
  },
  {
   "cell_type": "markdown",
   "metadata": {},
   "source": [
    "#### Exercise - Selection of Individual Values\n",
    "\n",
    "Assume Pandas has been imported into your notebook and the Gapminder GDP data for Europe has been loaded:"
   ]
  },
  {
   "cell_type": "code",
   "execution_count": null,
   "metadata": {},
   "outputs": [],
   "source": [
    "import pandas\n",
    "\n",
    "df = pandas.read_csv('data/gapminder_gdp_europe.csv', index_col='country')"
   ]
  },
  {
   "cell_type": "markdown",
   "metadata": {},
   "source": [
    "Write an expression to find the Per Capita GDP of Serbia in 2007."
   ]
  },
  {
   "cell_type": "code",
   "execution_count": null,
   "metadata": {},
   "outputs": [],
   "source": [
    "df.loc['Serbia', 'gdpPercap_2007']"
   ]
  },
  {
   "cell_type": "markdown",
   "metadata": {},
   "source": [
    "#### Exercise - Extent of Slicing\n",
    "\n",
    "- Do the two statements below produce the same output?\n",
    "- Based on this, what rule governs what is included (or not) in numerical slices and named slices in Pandas?"
   ]
  },
  {
   "cell_type": "markdown",
   "metadata": {},
   "source": [
    "```Python\n",
    "print(data.iloc[0:2, 0:2])\n",
    "print(data.loc['Albania':'Belgium', 'gdpPercap_1952':'gdpPercap_1962'])\n",
    "```"
   ]
  },
  {
   "cell_type": "code",
   "execution_count": null,
   "metadata": {},
   "outputs": [],
   "source": [
    "print(df.iloc[0:2, 0:2])\n",
    "print(df.loc['Albania':'Belgium', 'gdpPercap_1952':'gdpPercap_1962'])"
   ]
  },
  {
   "cell_type": "markdown",
   "metadata": {},
   "source": [
    "#### Exercise -Reconstructing Data\n",
    "\n",
    "- Explain what each line in the following short program does: what is in first, second, etc.?"
   ]
  },
  {
   "cell_type": "code",
   "execution_count": null,
   "metadata": {},
   "outputs": [],
   "source": [
    "first = pandas.read_csv('data/gapminder_all.csv', index_col='country')\n",
    "second = first[first['continent'] == 'Americas']\n",
    "print(second.loc['Puerto Rico'])\n",
    "\n",
    "third = second.drop('Puerto Rico')\n",
    "#print(third.loc['Puerto Rico'])\n",
    "\n",
    "fourth = third.drop('continent', axis = 1)\n",
    "fourth.to_csv('result.csv')"
   ]
  },
  {
   "cell_type": "markdown",
   "metadata": {},
   "source": [
    "#### Exercise - Selecting Indices\n",
    "\n",
    "Explain in simple terms what `idxmin` and `idxmax` do in the short program below. When would you use these methods?"
   ]
  },
  {
   "cell_type": "code",
   "execution_count": null,
   "metadata": {},
   "outputs": [],
   "source": [
    "data = pandas.read_csv('data/gapminder_gdp_europe.csv', index_col='country')\n",
    "print(data.idxmin())\n",
    "print(data.idxmax())"
   ]
  },
  {
   "cell_type": "markdown",
   "metadata": {},
   "source": [
    "#### Practice with Selection\n",
    "\n",
    "Assume Pandas has been imported and the Gapminder GDP data for Europe has been loaded. Write an expression to select each of the following:\n",
    "\n",
    "- GDP per capita for all countries in 1982.\n",
    "- GDP per capita for Denmark for all years.\n",
    "- GDP per capita for all countries for years after 1985.\n",
    "- GDP per capita for each country in 2007 as a multiple of GDP per capita for that country in 1952."
   ]
  },
  {
   "cell_type": "code",
   "execution_count": null,
   "metadata": {},
   "outputs": [],
   "source": [
    "df = pandas.read_csv('data/gapminder_all.csv', index_col='country')\n",
    "\n",
    "df.head()\n",
    "df.gdpPercap_1982\n",
    "df.loc['Denmark']\n",
    "df.loc[:, 'gdpPercap_1985':]\n",
    "df_2007_multi_of_1952 = df['gdpPercap_2007']/df['gdpPercap_1952']"
   ]
  },
  {
   "cell_type": "markdown",
   "metadata": {},
   "source": [
    "### Keypoints\n",
    "\n",
    "- Use `DataFrame.iloc[..., ...]` to select values by integer location.\n",
    "- Use `:` on its own to mean all columns or all rows.\n",
    "- Select multiple columns or rows using `DataFrame.loc` and a named slice.\n",
    "- Result of slicing can be used in further operations.\n",
    "- Use comparisons to select data based on value.\n",
    "- Select values or NaN using a Boolean mask."
   ]
  },
  {
   "cell_type": "code",
   "execution_count": null,
   "metadata": {},
   "outputs": [],
   "source": [
    "#A demonstration of how you can create and modify a dataframe\n",
    "\n",
    "import pandas\n",
    "\n",
    "#Create an empty df with one column 'X'\n",
    "df = pandas.DataFrame(columns = [\"X\"]) \n",
    "\n",
    "#Create an empty df with two columns 'X' and 'Y'\n",
    "df1 = pandas.DataFrame(columns = [\"X\", \"Y\"]) \n",
    "\n",
    "#Create an empty df with two columns 'X' and 'Y' and 1 row 'a'\n",
    "df2 = pandas.DataFrame(columns = [\"X\", \"Y\"], index=['a'])\n",
    "\n",
    "#Create an empty df with two columns 'X' and 'Y' and multiple rows 'a', 'b', 'c'\n",
    "df3 = pandas.DataFrame(columns = [\"X\", \"Y\"], index=['a', 'b', 'c'])\n",
    "\n",
    "#Create a df with two columns 'X' and 'Y' and multiple rows 'a', 'b', 'c', and initialize cells with 0s or 1s\n",
    "df4 = pandas.DataFrame(0, columns = [\"X\", \"Y\"], index=['a', 'b', 'c'])\n",
    "\n",
    "#insert a value for the row a\n",
    "df4.loc['a'] = 1 # this will add 1 for both the cells in the row 'a'\n",
    "df4.loc['a'] = [1, 12] # this will add 1 for the cell X and 12 for the cell Y in the row a\n",
    "\n",
    "#insert a value for the column X\n",
    "df4['X'] = 1 # this will add 1 for all the cells in the column 'X'\n",
    "df4['X'] = [1, 20, 24] # this will add different values in the cells of the column 'X'\n",
    "\n",
    "#insert a value in the soecific cell\n",
    "df4.loc['c', 'Y'] = 34\n",
    "\n",
    "# you can use iloc similarly\n",
    "df4.iloc[1, 1] = 29\n",
    "\n",
    "# initialize a new column with values\n",
    "df4['Z'] = [22, 38, 44]\n",
    "\n",
    "# add an empty column \n",
    "df4['ZZ'] = 0\n",
    "df4"
   ]
  },
  {
   "cell_type": "code",
   "execution_count": null,
   "metadata": {},
   "outputs": [],
   "source": [
    "#sort data by first column\n",
    "df4.sort_index()\n",
    "\n",
    "#sort in reverse order\n",
    "df4.sort_index(ascending=False)\n",
    "\n",
    "#sort by a defined column\n",
    "df4.sort_values(by='Y')\n",
    "\n",
    "#sort by multiple columns\n",
    "df4.sort_values(by=['Y', 'Z']) \n",
    "\n",
    "# REMINDER: you can always pass multiple values for the commands in pandas using [] brackets"
   ]
  },
  {
   "cell_type": "code",
   "execution_count": null,
   "metadata": {},
   "outputs": [],
   "source": [
    "#create a mask for values more than 1 in the column X\n",
    "df4[df4['X']>1]\n",
    "\n",
    "#masking by multiple values\n",
    "df4[df4['X']>1 & (df4['Y']<30)]\n",
    "\n",
    "#check null values\n",
    "df4.isnull()\n",
    "\n",
    "#replacing values\n",
    "df5 = df4.replace(0, '66')\n",
    "df5['ZZ'] = ['col1', 'col2', 'col3']\n",
    "df5"
   ]
  },
  {
   "cell_type": "code",
   "execution_count": null,
   "metadata": {},
   "outputs": [],
   "source": [
    "df6 = df5.set_index('ZZ')"
   ]
  },
  {
   "cell_type": "code",
   "execution_count": null,
   "metadata": {},
   "outputs": [],
   "source": [
    "#groupby\n",
    "\n",
    "df6 = df5.groupby('X')['Y'].mean() #group by the column 'X' and get a mean of the values in 'Y'\n",
    "df6"
   ]
  },
  {
   "cell_type": "code",
   "execution_count": null,
   "metadata": {},
   "outputs": [],
   "source": [
    "# create a new dataframe ndf\n",
    "\n",
    "ndf = pandas.DataFrame([['gene1', 299], ['gene2', 599], ['gene3', 678]], index=['col1', 'col2', 'col3'], columns=['Gene', 'Length'])\n",
    "ndf"
   ]
  },
  {
   "cell_type": "code",
   "execution_count": null,
   "metadata": {},
   "outputs": [],
   "source": [
    "# merge df6 and ndf\n",
    "\n",
    "df6_ndf_1 = pandas.concat([df6, ndf]) \n",
    "df6_ndf_1\n",
    "# by default the concatanation of the dataframe happens in the axis 0, or rows"
   ]
  },
  {
   "cell_type": "code",
   "execution_count": null,
   "metadata": {},
   "outputs": [],
   "source": [
    "# merge df6 and ndf using the column axis (axis=1)\n",
    "\n",
    "df6_ndf_2 = pandas.concat([df6, ndf], axis=1)\n",
    "df6_ndf_2\n",
    "\n",
    "# pandas "
   ]
  },
  {
   "cell_type": "code",
   "execution_count": null,
   "metadata": {},
   "outputs": [],
   "source": [
    "# Optionally use join\n",
    "\n",
    "df6_ndf_3 = ndf.join(df6)\n",
    "df6_ndf_3"
   ]
  },
  {
   "cell_type": "code",
   "execution_count": null,
   "metadata": {},
   "outputs": [],
   "source": [
    "# try out the commands from cheatsheets here\n",
    "\n"
   ]
  }
 ],
 "metadata": {
  "kernelspec": {
   "display_name": "Python 3",
   "language": "python",
   "name": "python3"
  },
  "language_info": {
   "codemirror_mode": {
    "name": "ipython",
    "version": 3
   },
   "file_extension": ".py",
   "mimetype": "text/x-python",
   "name": "python",
   "nbconvert_exporter": "python",
   "pygments_lexer": "ipython3",
   "version": "3.7.4"
  }
 },
 "nbformat": 4,
 "nbformat_minor": 2
}
